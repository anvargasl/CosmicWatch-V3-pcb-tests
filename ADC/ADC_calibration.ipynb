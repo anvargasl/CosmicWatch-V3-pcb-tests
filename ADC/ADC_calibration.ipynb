{
 "cells": [
  {
   "cell_type": "code",
   "execution_count": 23,
   "metadata": {},
   "outputs": [],
   "source": [
    "import matplotlib as mpl\n",
    "\n",
    "fsize = 11\n",
    "textwidth = 6.47\n",
    "mpl.rcParams['legend.fontsize'] = fsize\n",
    "mpl.rcParams[\"figure.figsize\"] = (textwidth,(textwidth*9)/16)\n",
    "mpl.rcParams['axes.labelsize'] = fsize\n",
    "mpl.rcParams['xtick.labelsize'] = fsize\n",
    "mpl.rcParams['ytick.labelsize'] = fsize\n",
    "mpl.rcParams['text.usetex'] = True\n",
    "mpl.rcParams['font.family'] = 'sans-serif'\n",
    "mpl.rcParams['mathtext.fontset'] = 'dejavusans'\n",
    "mpl.rcParams.update({'font.size': fsize})\n",
    "\n",
    "import matplotlib.pyplot as plt\n",
    "#from mpl_toolkits.axes_grid1.inset_locator import inset_axes\n",
    "import numpy as np\n",
    "import datetime\n",
    "import re"
   ]
  },
  {
   "cell_type": "code",
   "execution_count": 24,
   "metadata": {},
   "outputs": [
    {
     "name": "stdout",
     "output_type": "stream",
     "text": [
      "[( 12,   1,   8297765, 98, [ 5425,  5217,  5425,  5121,  5537])\n",
      " ( 12,   2,   8299051, 91, [ 5169,  5569,  5313,  5089,  5505])\n",
      " ( 12,   3,   8300128, 91, [ 5217,  5377,  5313,  5409,  5473]) ...\n",
      " (250,  98, 196178406, 93, [14771, 14931, 14867, 14803, 14899])\n",
      " (250,  99, 196179590, 89, [14819, 14947, 14611, 14931, 14691])\n",
      " (250, 100, 196180654, 85, [15043, 14563, 14691, 14995, 14963])]\n",
      "[7145]\n"
     ]
    },
    {
     "data": {
      "text/plain": [
       "[<matplotlib.lines.Line2D at 0x7ff33a7af820>]"
      ]
     },
     "execution_count": 24,
     "metadata": {},
     "output_type": "execute_result"
    },
    {
     "data": {
      "image/png": "[encoded data removed]",
      "text/plain": [
       "<Figure size 465.84x262.035 with 1 Axes>"
      ]
     },
     "metadata": {
      "needs_background": "light"
     },
     "output_type": "display_data"
    }
   ],
   "source": [
    "#normal_working_conditions\n",
    "#pulse_val,e_count,t0[us],dt0[us],readings\n",
    "data = np.genfromtxt('calibration.txt', delimiter=\",\", dtype=[('mV', int), ('event', int), ('t0', int), ('dt0', int), ('ADC', np.dtype(\"(5,)i4\"))], usecols=np.arange(0,9), skip_header=1)\n",
    "#data = np.genfromtxt('calibration.txt', delimiter=\",\", dtype=[('mV', int), ('event', int)], usecols=[0,1], skip_header=1)\n",
    "print(data)\n",
    "\n",
    "adc_avrg = np.zeros_like(data[\"mV\"])\n",
    "\n",
    "for a, val in enumerate(data[\"ADC\"]):\n",
    "    adc_avrg[a] = sum(val)/len(val)\n",
    "\n",
    "dV1 = 2\n",
    "dV2 = 10\n",
    "Voltages = np.array(list(range(12, 41, dV1))+list(range(50, 251, dV2)))\n",
    "\n",
    "ADC_avrg = np.zeros_like(Voltages)\n",
    "\n",
    "for i in range(len(Voltages)):\n",
    "    ADC_avrg[i] = sum(adc_avrg[i*100:(i+1)*100])/100\n",
    "\n",
    "ADC1 = ADC_avrg[Voltages==50]\n",
    "ADC2 = ADC_avrg[Voltages==50+180]\n",
    "print(ADC2-ADC1)\n",
    "\n",
    "plt.xlabel(\"mV\")\n",
    "plt.ylabel(\"ADC\")\n",
    "\n",
    "plt.grid()\n",
    "plt.plot(Voltages, ADC_avrg)"
   ]
  }
 ],
 "metadata": {
  "kernelspec": {
   "display_name": "Python 3",
   "language": "python",
   "name": "python3"
  },
  "language_info": {
   "codemirror_mode": {
    "name": "ipython",
    "version": 3
   },
   "file_extension": ".py",
   "mimetype": "text/x-python",
   "name": "python",
   "nbconvert_exporter": "python",
   "pygments_lexer": "ipython3",
   "version": "3.10.12"
  }
 },
 "nbformat": 4,
 "nbformat_minor": 2
}
