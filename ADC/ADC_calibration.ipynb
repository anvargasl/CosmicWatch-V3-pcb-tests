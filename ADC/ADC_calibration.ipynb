{
 "cells": [
  {
   "cell_type": "code",
   "execution_count": null,
   "metadata": {},
   "outputs": [],
   "source": [
    "import matplotlib as mpl\n",
    "\n",
    "fsize = 16\n",
    "mpl.rcParams['legend.fontsize'] = fsize\n",
    "mpl.rcParams[\"figure.figsize\"] = (12,10)\n",
    "mpl.rcParams['axes.labelsize'] = fsize\n",
    "mpl.rcParams['xtick.labelsize'] = fsize\n",
    "mpl.rcParams['ytick.labelsize'] = fsize\n",
    "mpl.rcParams['text.usetex'] = True\n",
    "mpl.rcParams['font.family'] = 'sans-serif'\n",
    "mpl.rcParams['mathtext.fontset'] = 'dejavusans'\n",
    "mpl.rcParams.update({'font.size': fsize})\n",
    "\n",
    "import matplotlib.pyplot as plt\n",
    "#from mpl_toolkits.axes_grid1.inset_locator import inset_axes\n",
    "import numpy as np\n",
    "import datetime\n",
    "import re"
   ]
  },
  {
   "cell_type": "code",
   "execution_count": null,
   "metadata": {},
   "outputs": [],
   "source": [
    "#normal_working_conditions\n",
    "#pulse_val,e_count,t0[us],dt0[us],readings\n",
    "data = np.genfromtxt('calibration.txt', delimiter=\",\", dtype=[('mV', int), ('event', int), ('t0', int), ('dt0', float), ('ADC', np.dtype(\"(1,5)i4\"))], usecols=[1,3,8,9], skip_header=4)"
   ]
  }
 ],
 "metadata": {
  "language_info": {
   "name": "python"
  }
 },
 "nbformat": 4,
 "nbformat_minor": 2
}
